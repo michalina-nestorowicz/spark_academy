{
 "cells": [
  {
   "cell_type": "markdown",
   "metadata": {},
   "source": [
    "Good for a practice notebook insteaed of demo. Change it as a todo type of notebook?"
   ]
  },
  {
   "cell_type": "markdown",
   "metadata": {},
   "source": [
    "## Setup spark and install modules"
   ]
  },
  {
   "cell_type": "code",
   "execution_count": 5,
   "metadata": {},
   "outputs": [],
   "source": [
    "from pyspark.sql import SparkSession\n",
    "from pyspark.sql.functions import regexp_extract, current_timestamp, window, col"
   ]
  },
  {
   "cell_type": "code",
   "execution_count": 6,
   "metadata": {},
   "outputs": [
    {
     "name": "stderr",
     "output_type": "stream",
     "text": [
      "your 131072x1 screen size is bogus. expect trouble\n",
      "24/04/09 14:20:11 WARN Utils: Your hostname, DELEQ0283302041 resolves to a loopback address: 127.0.1.1; using 172.31.227.62 instead (on interface eth0)\n",
      "24/04/09 14:20:11 WARN Utils: Set SPARK_LOCAL_IP if you need to bind to another address\n",
      "Setting default log level to \"WARN\".\n",
      "To adjust logging level use sc.setLogLevel(newLevel). For SparkR, use setLogLevel(newLevel).\n",
      "24/04/09 14:20:12 WARN NativeCodeLoader: Unable to load native-hadoop library for your platform... using builtin-java classes where applicable\n",
      "24/04/09 14:20:13 WARN Utils: Service 'SparkUI' could not bind on port 4040. Attempting port 4041.\n"
     ]
    }
   ],
   "source": [
    "spark = SparkSession.builder.appName(\"LogsAnalysis\").getOrCreate()"
   ]
  },
  {
   "cell_type": "markdown",
   "metadata": {},
   "source": [
    "## Setup\n"
   ]
  },
  {
   "cell_type": "markdown",
   "metadata": {},
   "source": [
    "### Generate data\n",
    "For out practice purposes, we will generate fake Apache Access logs.\n",
    ">1. Open terminal and change directory to \"Data\" folder\n",
    ">2. In terminal, run command `python log_generator apache_access_schema.yaml`, add flag `-t` to truncate previously created logs\n",
    ">3. Based on provided .yaml file, new `log.txt.{id}` file should appear every 5s with 50 lines of fake logs."
   ]
  },
  {
   "cell_type": "markdown",
   "metadata": {},
   "source": [
    "## Practice"
   ]
  },
  {
   "cell_type": "markdown",
   "metadata": {},
   "source": [
    "1. Create DataFrame representing the stream of raw log data lines ariving to `/'log/apache_access` directory"
   ]
  },
  {
   "cell_type": "code",
   "execution_count": 8,
   "metadata": {},
   "outputs": [],
   "source": [
    "access_lines = spark.readStream.text(\"../Data/log/apache_access\")"
   ]
  },
  {
   "cell_type": "markdown",
   "metadata": {},
   "source": [
    "2. Parse log data to a DataFrame"
   ]
  },
  {
   "cell_type": "code",
   "execution_count": 9,
   "metadata": {},
   "outputs": [],
   "source": [
    "# Parse out the common log format to a DataFrame\n",
    "contentSizeExp = r'\\s(\\d+)$'\n",
    "statusExp = r'\\s(\\d{3})\\s'\n",
    "generalExp = r'\\\"(\\S+)\\s(\\S+)\\s*(\\S*)\\\"'\n",
    "timeExp = r'\\[(\\d{2}/\\w{3}/\\d{4}:\\d{2}:\\d{2}:\\d{2}:\\d{4})]'\n",
    "hostExp = r'(^\\S+\\.[\\S+\\.]+\\S+)\\s'\n",
    "\n",
    "logsDF = access_lines.select(regexp_extract('value', hostExp, 1).alias('host'),\n",
    "                        regexp_extract('value', timeExp, 1).alias('timestamp'),\n",
    "                        regexp_extract('value', generalExp, 1).alias('method'),\n",
    "                        regexp_extract('value', generalExp, 2).alias('endpoint'),\n",
    "                        regexp_extract('value', generalExp, 3).alias('protocol'),\n",
    "                        regexp_extract('value', statusExp, 1).cast('integer').alias('status'),\n",
    "                        regexp_extract('value', contentSizeExp, 1).cast('integer').alias('content_size'))"
   ]
  },
  {
   "cell_type": "markdown",
   "metadata": {},
   "source": [
    "3. Add event time column with current time for window aggregation"
   ]
  },
  {
   "cell_type": "code",
   "execution_count": 10,
   "metadata": {},
   "outputs": [],
   "source": [
    "LogsEventimeDF = logsDF.withColumn(\"eventTime\", current_timestamp())"
   ]
  },
  {
   "cell_type": "markdown",
   "metadata": {},
   "source": [
    "4. Define windowDuration and slideDuration write windowed"
   ]
  },
  {
   "cell_type": "code",
   "execution_count": 11,
   "metadata": {},
   "outputs": [],
   "source": [
    "windowDuration = '2 minutes'\n",
    "slideDuration = '30 seconds'"
   ]
  },
  {
   "cell_type": "code",
   "execution_count": 12,
   "metadata": {},
   "outputs": [],
   "source": [
    "WindowedEndpointCountsDF = LogsEventimeDF.groupBy(window(col(\"eventTime\"), windowDuration, slideDuration), col(\"endpoint\")).count()"
   ]
  },
  {
   "cell_type": "code",
   "execution_count": 13,
   "metadata": {},
   "outputs": [
    {
     "name": "stderr",
     "output_type": "stream",
     "text": [
      "24/04/09 14:20:51 WARN ResolveWriteToStream: Temporary checkpoint location created which is deleted normally when the query didn't fail: /tmp/temporary-dd612191-a903-490b-98a5-f45762824421. If it's required to delete it under any circumstances, please set spark.sql.streaming.forceDeleteTempCheckpointLocation to true. Important to know deleting temp checkpoint folder is best effort.\n",
      "24/04/09 14:20:51 WARN ResolveWriteToStream: spark.sql.adaptive.enabled is not supported in streaming DataFrames/Datasets and will be disabled.\n"
     ]
    },
    {
     "name": "stderr",
     "output_type": "stream",
     "text": [
      "                                                                                \r"
     ]
    },
    {
     "name": "stdout",
     "output_type": "stream",
     "text": [
      "-------------------------------------------\n",
      "Batch: 0\n",
      "-------------------------------------------\n",
      "+--------------------+-----------+-----+\n",
      "|              window|   endpoint|count|\n",
      "+--------------------+-----------+-----+\n",
      "|{2024-04-09 14:20...|     /users|    6|\n",
      "|{2024-04-09 14:20...|      /auth|    3|\n",
      "|{2024-04-09 14:19...|      /auth|    3|\n",
      "|{2024-04-09 14:20...| /fieldsets|    5|\n",
      "|{2024-04-09 14:20...|      /auth|    3|\n",
      "|{2024-04-09 14:20...| /playbooks|    2|\n",
      "|{2024-04-09 14:19...| /playbooks|    2|\n",
      "|{2024-04-09 14:19...|      /auth|    3|\n",
      "|{2024-04-09 14:19...|    /events|    6|\n",
      "|{2024-04-09 14:19...|     /lists|    9|\n",
      "|{2024-04-09 14:20...| /customers|    4|\n",
      "|{2024-04-09 14:20...|    /alerts|    9|\n",
      "|{2024-04-09 14:19...| /playbooks|    2|\n",
      "|{2024-04-09 14:20...|     /lists|    9|\n",
      "|{2024-04-09 14:19...|   /parsers|    2|\n",
      "|{2024-04-09 14:20...|/collectors|    4|\n",
      "|{2024-04-09 14:19...|    /events|    6|\n",
      "|{2024-04-09 14:20...|    /events|    6|\n",
      "|{2024-04-09 14:20...|   /parsers|    2|\n",
      "|{2024-04-09 14:19...| /customers|    4|\n",
      "+--------------------+-----------+-----+\n",
      "only showing top 20 rows\n",
      "\n"
     ]
    },
    {
     "name": "stderr",
     "output_type": "stream",
     "text": [
      "                                                                                \r"
     ]
    },
    {
     "name": "stdout",
     "output_type": "stream",
     "text": [
      "-------------------------------------------\n",
      "Batch: 1\n",
      "-------------------------------------------\n",
      "+--------------------+-----------+-----+\n",
      "|              window|   endpoint|count|\n",
      "+--------------------+-----------+-----+\n",
      "|{2024-04-09 14:20...|     /users|    9|\n",
      "|{2024-04-09 14:20...|      /auth|    8|\n",
      "|{2024-04-09 14:19...|      /auth|    8|\n",
      "|{2024-04-09 14:20...| /fieldsets|   10|\n",
      "|{2024-04-09 14:20...|      /auth|    8|\n",
      "|{2024-04-09 14:20...| /playbooks|    4|\n",
      "|{2024-04-09 14:19...| /playbooks|    4|\n",
      "|{2024-04-09 14:19...|      /auth|    8|\n",
      "|{2024-04-09 14:19...|    /events|   14|\n",
      "|{2024-04-09 14:19...|     /lists|   15|\n",
      "|{2024-04-09 14:20...| /customers|    7|\n",
      "|{2024-04-09 14:20...|    /alerts|   14|\n",
      "|{2024-04-09 14:19...| /playbooks|    4|\n",
      "|{2024-04-09 14:20...|     /lists|   15|\n",
      "|{2024-04-09 14:19...|   /parsers|    9|\n",
      "|{2024-04-09 14:20...|/collectors|   10|\n",
      "|{2024-04-09 14:19...|    /events|   14|\n",
      "|{2024-04-09 14:20...|    /events|   14|\n",
      "|{2024-04-09 14:20...|   /parsers|    9|\n",
      "|{2024-04-09 14:19...| /customers|    7|\n",
      "+--------------------+-----------+-----+\n",
      "only showing top 20 rows\n",
      "\n"
     ]
    },
    {
     "name": "stderr",
     "output_type": "stream",
     "text": [
      "                                                                                \r"
     ]
    },
    {
     "name": "stdout",
     "output_type": "stream",
     "text": [
      "-------------------------------------------\n",
      "Batch: 2\n",
      "-------------------------------------------\n",
      "+--------------------+-----------+-----+\n",
      "|              window|   endpoint|count|\n",
      "+--------------------+-----------+-----+\n",
      "|{2024-04-09 14:20...|     /users|   10|\n",
      "|{2024-04-09 14:20...|      /auth|    8|\n",
      "|{2024-04-09 14:19...|      /auth|    8|\n",
      "|{2024-04-09 14:20...| /fieldsets|   11|\n",
      "|{2024-04-09 14:20...|      /auth|    8|\n",
      "|{2024-04-09 14:20...| /playbooks|    4|\n",
      "|{2024-04-09 14:19...| /playbooks|    4|\n",
      "|{2024-04-09 14:19...|      /auth|    8|\n",
      "|{2024-04-09 14:19...|    /events|   14|\n",
      "|{2024-04-09 14:19...|     /lists|   16|\n",
      "|{2024-04-09 14:20...| /customers|    8|\n",
      "|{2024-04-09 14:20...|    /alerts|   14|\n",
      "|{2024-04-09 14:19...| /playbooks|    4|\n",
      "|{2024-04-09 14:20...|     /lists|   16|\n",
      "|{2024-04-09 14:19...|   /parsers|    9|\n",
      "|{2024-04-09 14:20...|/collectors|   10|\n",
      "|{2024-04-09 14:19...|    /events|   14|\n",
      "|{2024-04-09 14:20...|    /events|   14|\n",
      "|{2024-04-09 14:20...|   /parsers|    9|\n",
      "|{2024-04-09 14:19...| /customers|    8|\n",
      "+--------------------+-----------+-----+\n",
      "only showing top 20 rows\n",
      "\n"
     ]
    },
    {
     "name": "stderr",
     "output_type": "stream",
     "text": [
      "                                                                                \r"
     ]
    },
    {
     "name": "stdout",
     "output_type": "stream",
     "text": [
      "-------------------------------------------\n",
      "Batch: 3\n",
      "-------------------------------------------\n",
      "+--------------------+-----------+-----+\n",
      "|              window|   endpoint|count|\n",
      "+--------------------+-----------+-----+\n",
      "|{2024-04-09 14:20...|     /users|   10|\n",
      "|{2024-04-09 14:20...|      /auth|    8|\n",
      "|{2024-04-09 14:19...|      /auth|    8|\n",
      "|{2024-04-09 14:20...| /fieldsets|   11|\n",
      "|{2024-04-09 14:20...|      /auth|    8|\n",
      "|{2024-04-09 14:20...| /playbooks|    4|\n",
      "|{2024-04-09 14:19...| /playbooks|    4|\n",
      "|{2024-04-09 14:19...|      /auth|    8|\n",
      "|{2024-04-09 14:19...|    /events|   14|\n",
      "|{2024-04-09 14:21...|    /events|    3|\n",
      "|{2024-04-09 14:19...|     /lists|   16|\n",
      "|{2024-04-09 14:20...| /customers|    8|\n",
      "|{2024-04-09 14:20...|    /alerts|   14|\n",
      "|{2024-04-09 14:19...| /playbooks|    4|\n",
      "|{2024-04-09 14:20...|     /lists|   16|\n",
      "|{2024-04-09 14:19...|   /parsers|    9|\n",
      "|{2024-04-09 14:20...|/collectors|   10|\n",
      "|{2024-04-09 14:19...|    /events|   17|\n",
      "|{2024-04-09 14:20...|    /events|   17|\n",
      "|{2024-04-09 14:20...|   /parsers|    9|\n",
      "+--------------------+-----------+-----+\n",
      "only showing top 20 rows\n",
      "\n"
     ]
    },
    {
     "name": "stderr",
     "output_type": "stream",
     "text": [
      "                                                                                \r"
     ]
    },
    {
     "name": "stdout",
     "output_type": "stream",
     "text": [
      "-------------------------------------------\n",
      "Batch: 4\n",
      "-------------------------------------------\n",
      "+--------------------+----------+-----+\n",
      "|              window|  endpoint|count|\n",
      "+--------------------+----------+-----+\n",
      "|{2024-04-09 14:20...|    /users|   15|\n",
      "|{2024-04-09 14:20...|     /auth|   15|\n",
      "|{2024-04-09 14:19...|     /auth|    8|\n",
      "|{2024-04-09 14:20...|/fieldsets|   12|\n",
      "|{2024-04-09 14:20...|     /auth|   15|\n",
      "|{2024-04-09 14:20...|/playbooks|    6|\n",
      "|{2024-04-09 14:19...|/playbooks|    6|\n",
      "|{2024-04-09 14:19...|     /auth|   15|\n",
      "|{2024-04-09 14:21...|  /parsers|    5|\n",
      "|{2024-04-09 14:19...|   /events|   14|\n",
      "|{2024-04-09 14:21...|   /events|   11|\n",
      "|{2024-04-09 14:19...|    /lists|   20|\n",
      "|{2024-04-09 14:20...|/customers|   15|\n",
      "|{2024-04-09 14:20...|   /alerts|   17|\n",
      "|{2024-04-09 14:21...|    /users|    5|\n",
      "|{2024-04-09 14:19...|/playbooks|    4|\n",
      "|{2024-04-09 14:20...|    /lists|   20|\n",
      "|{2024-04-09 14:21...|/fieldsets|    1|\n",
      "|{2024-04-09 14:19...|  /parsers|   14|\n",
      "|{2024-04-09 14:21...|   /alerts|    3|\n",
      "+--------------------+----------+-----+\n",
      "only showing top 20 rows\n",
      "\n",
      "-------------------------------------------\n",
      "Batch: 5\n",
      "-------------------------------------------\n",
      "+--------------------+----------+-----+\n",
      "|              window|  endpoint|count|\n",
      "+--------------------+----------+-----+\n",
      "|{2024-04-09 14:20...|    /users|   17|\n",
      "|{2024-04-09 14:20...|     /auth|   21|\n",
      "|{2024-04-09 14:19...|     /auth|    8|\n",
      "|{2024-04-09 14:20...|/fieldsets|   17|\n",
      "|{2024-04-09 14:20...|     /auth|   21|\n",
      "|{2024-04-09 14:20...|/playbooks|   13|\n",
      "|{2024-04-09 14:19...|/playbooks|   13|\n",
      "|{2024-04-09 14:19...|     /auth|   21|\n",
      "|{2024-04-09 14:21...|  /parsers|    7|\n",
      "|{2024-04-09 14:19...|   /events|   14|\n",
      "|{2024-04-09 14:21...|   /events|   20|\n",
      "|{2024-04-09 14:19...|    /lists|   25|\n",
      "|{2024-04-09 14:20...|/customers|   20|\n",
      "|{2024-04-09 14:20...|   /alerts|   22|\n",
      "|{2024-04-09 14:21...|    /users|    7|\n",
      "|{2024-04-09 14:19...|/playbooks|    4|\n",
      "|{2024-04-09 14:20...|    /lists|   25|\n",
      "|{2024-04-09 14:21...|/fieldsets|    6|\n",
      "|{2024-04-09 14:19...|  /parsers|   16|\n",
      "|{2024-04-09 14:21...|   /alerts|    8|\n",
      "+--------------------+----------+-----+\n",
      "only showing top 20 rows\n",
      "\n"
     ]
    }
   ],
   "source": [
    "query = WindowedEndpointCountsDF.writeStream.outputMode(\"complete\").format(\"console\") \\\n",
    "      .queryName(\"counts\").start()"
   ]
  },
  {
   "cell_type": "markdown",
   "metadata": {},
   "source": [
    "5. Classroom cleanup\n",
    "IMPORTANT: Kill running log_generator script in terminal"
   ]
  },
  {
   "cell_type": "code",
   "execution_count": 11,
   "metadata": {},
   "outputs": [],
   "source": [
    "query.stop()\n",
    "spark.stop()"
   ]
  }
 ],
 "metadata": {
  "kernelspec": {
   "display_name": ".venv",
   "language": "python",
   "name": "python3"
  },
  "language_info": {
   "codemirror_mode": {
    "name": "ipython",
    "version": 3
   },
   "file_extension": ".py",
   "mimetype": "text/x-python",
   "name": "python",
   "nbconvert_exporter": "python",
   "pygments_lexer": "ipython3",
   "version": "3.10.12"
  }
 },
 "nbformat": 4,
 "nbformat_minor": 2
}
