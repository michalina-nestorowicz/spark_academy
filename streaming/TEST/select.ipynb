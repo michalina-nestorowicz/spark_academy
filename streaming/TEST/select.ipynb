{
 "cells": [
  {
   "cell_type": "code",
   "execution_count": 5,
   "metadata": {},
   "outputs": [],
   "source": [
    "import sys\n",
    "from pyspark.sql import SparkSession\n",
    "from pyspark.sql.functions import split\n",
    "\n"
   ]
  },
  {
   "cell_type": "code",
   "execution_count": 6,
   "metadata": {},
   "outputs": [
    {
     "name": "stderr",
     "output_type": "stream",
     "text": [
      "24/04/14 19:22:09 WARN TextSocketSourceProvider: The socket source should not be used for production applications! It does not support recovery.\n",
      "24/04/14 19:22:09 WARN ResolveWriteToStream: Temporary checkpoint location created which is deleted normally when the query didn't fail: /tmp/temporary-8f953f47-e2be-4aee-b6eb-d2f86b41ea27. If it's required to delete it under any circumstances, please set spark.sql.streaming.forceDeleteTempCheckpointLocation to true. Important to know deleting temp checkpoint folder is best effort.\n",
      "24/04/14 19:22:09 WARN ResolveWriteToStream: spark.sql.adaptive.enabled is not supported in streaming DataFrames/Datasets and will be disabled.\n"
     ]
    },
    {
     "name": "stdout",
     "output_type": "stream",
     "text": [
      "-------------------------------------------\n",
      "Batch: 0\n",
      "-------------------------------------------\n",
      "+---------+------------+\n",
      "|eventTime|bloodGlucose|\n",
      "+---------+------------+\n",
      "+---------+------------+\n",
      "\n",
      "-------------------------------------------\n",
      "Batch: 1\n",
      "-------------------------------------------\n",
      "+--------------------+------------+\n",
      "|           eventTime|bloodGlucose|\n",
      "+--------------------+------------+\n",
      "|2024-04-14 19:22:...|         120|\n",
      "+--------------------+------------+\n",
      "\n",
      "-------------------------------------------\n",
      "Batch: 2\n",
      "-------------------------------------------\n",
      "+--------------------+------------+\n",
      "|           eventTime|bloodGlucose|\n",
      "+--------------------+------------+\n",
      "|2024-04-14 19:22:...|         120|\n",
      "+--------------------+------------+\n",
      "\n",
      "-------------------------------------------\n",
      "Batch: 3\n",
      "-------------------------------------------\n",
      "+--------------------+------------+\n",
      "|           eventTime|bloodGlucose|\n",
      "+--------------------+------------+\n",
      "|2024-04-14 19:22:...|         120|\n",
      "+--------------------+------------+\n",
      "\n"
     ]
    }
   ],
   "source": [
    "host, port = (\"127.0.0.1\", \"65432\")\n",
    "\n",
    "spark = SparkSession\\\n",
    "    .builder\\\n",
    "    .appName(\"DiabetesTest\")\\\n",
    "    .getOrCreate()\n",
    "\n",
    "lines = spark\\\n",
    "    .readStream\\\n",
    "    .format('socket')\\\n",
    "    .option('host', host)\\\n",
    "    .option('port', port)\\\n",
    "    .load()\n",
    "\n",
    "CSVData = lines.select(\\\n",
    "        split(lines.value, ',').getItem(0).alias('eventTime').cast(\"timestamp\"),\\\n",
    "        split(lines.value, ',').getItem(1).alias('bloodGlucose').cast(\"int\"),\\\n",
    "        split(lines.value, ',').getItem(2).alias('deviceID'),\\\n",
    "        )\n",
    "\n",
    "selectAndFilter = CSVData.select(\"eventTime\",\"bloodGlucose\")\\\n",
    "        .where(\"bloodGlucose > 0\")\n",
    "    \n",
    "query = selectAndFilter\\\n",
    "    .writeStream\\\n",
    "    .outputMode('append')\\\n",
    "    .format('console')\\\n",
    "    .start()"
   ]
  },
  {
   "cell_type": "code",
   "execution_count": 7,
   "metadata": {},
   "outputs": [],
   "source": [
    "query.stop()"
   ]
  },
  {
   "cell_type": "code",
   "execution_count": null,
   "metadata": {},
   "outputs": [],
   "source": []
  }
 ],
 "metadata": {
  "kernelspec": {
   "display_name": ".venv",
   "language": "python",
   "name": "python3"
  },
  "language_info": {
   "codemirror_mode": {
    "name": "ipython",
    "version": 3
   },
   "file_extension": ".py",
   "mimetype": "text/x-python",
   "name": "python",
   "nbconvert_exporter": "python",
   "pygments_lexer": "ipython3",
   "version": "3.10.12"
  }
 },
 "nbformat": 4,
 "nbformat_minor": 2
}
