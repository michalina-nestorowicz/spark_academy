{
 "cells": [
  {
   "cell_type": "markdown",
   "metadata": {},
   "source": [
    "## Batch computation\n",
    "\n",
    "Let's go back to Spark batch computation. Usuall step for batch procesing are:\n",
    "1. Read data from source file\n",
    "2. Do transformation\n",
    "3. Write transformed DataFrame to a file"
   ]
  },
  {
   "cell_type": "code",
   "execution_count": null,
   "metadata": {},
   "outputs": [],
   "source": [
    "from pyspark.sql import SparkSession\n",
    "from pyspark.sql.functions import avg, round\n",
    "from pyspark.sql.types import StructType, StructField, IntegerType, StringType, DecimalType"
   ]
  },
  {
   "cell_type": "code",
   "execution_count": null,
   "metadata": {},
   "outputs": [],
   "source": [
    "spark = SparkSession.builder.appName(\"Batch_Streaming_Comparison\").getOrCreate()\n",
    "spark.sparkContext.setLogLevel('ERROR')"
   ]
  },
  {
   "cell_type": "code",
   "execution_count": 2,
   "metadata": {},
   "outputs": [
    {
     "ename": "NameError",
     "evalue": "name 'StructType' is not defined",
     "output_type": "error",
     "traceback": [
      "\u001b[0;31m---------------------------------------------------------------------------\u001b[0m",
      "\u001b[0;31mNameError\u001b[0m                                 Traceback (most recent call last)",
      "Cell \u001b[0;32mIn[2], line 1\u001b[0m\n\u001b[0;32m----> 1\u001b[0m real_estate_schema \u001b[38;5;241m=\u001b[39m \u001b[43mStructType\u001b[49m(\n\u001b[1;32m      2\u001b[0m     [StructField(\u001b[38;5;124m'\u001b[39m\u001b[38;5;124mUID\u001b[39m\u001b[38;5;124m'\u001b[39m, IntegerType()), \n\u001b[1;32m      3\u001b[0m     StructField(\u001b[38;5;124m'\u001b[39m\u001b[38;5;124mLocation\u001b[39m\u001b[38;5;124m'\u001b[39m, StringType(), \u001b[38;5;28;01mTrue\u001b[39;00m), \n\u001b[1;32m      4\u001b[0m     StructField(\u001b[38;5;124m'\u001b[39m\u001b[38;5;124mPrice\u001b[39m\u001b[38;5;124m'\u001b[39m, DecimalType(\u001b[38;5;241m15\u001b[39m,\u001b[38;5;241m2\u001b[39m), \u001b[38;5;28;01mTrue\u001b[39;00m), \n\u001b[1;32m      5\u001b[0m     StructField(\u001b[38;5;124m'\u001b[39m\u001b[38;5;124mBedrooms\u001b[39m\u001b[38;5;124m'\u001b[39m, IntegerType(), \u001b[38;5;28;01mTrue\u001b[39;00m), \n\u001b[1;32m      6\u001b[0m     StructField(\u001b[38;5;124m'\u001b[39m\u001b[38;5;124mBathrooms\u001b[39m\u001b[38;5;124m'\u001b[39m, IntegerType(), \u001b[38;5;28;01mTrue\u001b[39;00m), \n\u001b[1;32m      7\u001b[0m     StructField(\u001b[38;5;124m'\u001b[39m\u001b[38;5;124mSize\u001b[39m\u001b[38;5;124m'\u001b[39m, IntegerType(), \u001b[38;5;28;01mTrue\u001b[39;00m), \n\u001b[1;32m      8\u001b[0m     StructField(\u001b[38;5;124m'\u001b[39m\u001b[38;5;124mPrice SQ Ft\u001b[39m\u001b[38;5;124m'\u001b[39m, DecimalType(\u001b[38;5;241m10\u001b[39m,\u001b[38;5;241m2\u001b[39m), \u001b[38;5;28;01mTrue\u001b[39;00m), \n\u001b[1;32m      9\u001b[0m     StructField(\u001b[38;5;124m'\u001b[39m\u001b[38;5;124mStatus\u001b[39m\u001b[38;5;124m'\u001b[39m, StringType(), \u001b[38;5;28;01mTrue\u001b[39;00m)])\n\u001b[1;32m     12\u001b[0m real_estate_batch \u001b[38;5;241m=\u001b[39m (\n\u001b[1;32m     13\u001b[0m     spark\n\u001b[1;32m     14\u001b[0m     \u001b[38;5;241m.\u001b[39mread\n\u001b[0;32m   (...)\u001b[0m\n\u001b[1;32m     19\u001b[0m     \u001b[38;5;241m.\u001b[39morderBy(\u001b[38;5;124m'\u001b[39m\u001b[38;5;124mAverage Price\u001b[39m\u001b[38;5;124m'\u001b[39m)\n\u001b[1;32m     20\u001b[0m     )\u001b[38;5;241m.\u001b[39mshow()\n",
      "\u001b[0;31mNameError\u001b[0m: name 'StructType' is not defined"
     ]
    }
   ],
   "source": [
    "real_estate_schema = StructType(\n",
    "    [StructField('UID', IntegerType()), \n",
    "    StructField('Location', StringType(), True), \n",
    "    StructField('Price', DecimalType(15,2), True), \n",
    "    StructField('Bedrooms', IntegerType(), True), \n",
    "    StructField('Bathrooms', IntegerType(), True), \n",
    "    StructField('Size', IntegerType(), True), \n",
    "    StructField('Price SQ Ft', DecimalType(10,2), True), \n",
    "    StructField('Status', StringType(), True)])\n",
    "\n",
    "\n",
    "real_estate_batch = (\n",
    "    spark\n",
    "    .read\n",
    "    .schema(real_estate_schema)\n",
    "    .csv(\"../data/batch_resource\", header = True)\n",
    "    .groupBy(\"Location\")\n",
    "    .agg(round(avg(\"Price\"), 2).alias('AveragePrice'))\n",
    "    .orderBy('AveragePrice')\n",
    "    ).show()\n"
   ]
  },
  {
   "cell_type": "markdown",
   "metadata": {},
   "source": [
    "Compare it to how we process data in Spark Structured Streaming:"
   ]
  },
  {
   "cell_type": "code",
   "execution_count": null,
   "metadata": {},
   "outputs": [
    {
     "name": "stderr",
     "output_type": "stream",
     "text": [
      "                                                                                \r"
     ]
    },
    {
     "name": "stdout",
     "output_type": "stream",
     "text": [
      "-------------------------------------------\n",
      "Batch: 0\n",
      "-------------------------------------------\n",
      "+-------------------+-------------+\n",
      "|           Location|Average Price|\n",
      "+-------------------+-------------+\n",
      "|         New Cuyama|     40900.00|\n",
      "|    Santa Margarita|     59900.00|\n",
      "|        Bakersfield|     91500.00|\n",
      "|          Guadalupe|    117250.00|\n",
      "|          King City|    131190.00|\n",
      "|             Lompoc|    149900.00|\n",
      "|        Out Of Area|    173900.00|\n",
      "|            Soledad|    184053.33|\n",
      "|         Greenfield|    184800.00|\n",
      "|           Coalinga|    202071.43|\n",
      "| Santa Maria-Orcutt|    231106.18|\n",
      "|             Lompoc|    241260.77|\n",
      "|         San Simeon|    274900.00|\n",
      "|         San Miguel|    283642.86|\n",
      "|            Creston|    309900.00|\n",
      "|            Solvang|    325000.00|\n",
      "| Santa Maria-Orcutt|    332546.08|\n",
      "|        Paso Robles|    334280.22|\n",
      "|           Los Osos|    359704.76|\n",
      "|       Grover Beach|    365615.00|\n",
      "+-------------------+-------------+\n",
      "only showing top 20 rows\n",
      "\n"
     ]
    }
   ],
   "source": [
    "real_estate_stream = (spark\n",
    "    .readStream\n",
    "    .schema(real_estate_schema)\n",
    "    .csv(\"../data/batch_resource\", header=True)\n",
    "    .groupBy(\"Location\")\n",
    "    .agg(round(avg(\"Price\"), 2).alias('AveragePrice'))\n",
    "    .orderBy('AveragePrice')\n",
    "    .writeStream\n",
    "    .outputMode(\"complete\")\n",
    "    .format(\"console\")\n",
    "    .start())\n"
   ]
  },
  {
   "cell_type": "code",
   "execution_count": null,
   "metadata": {},
   "outputs": [],
   "source": [
    "real_estate_stream.stop()"
   ]
  }
 ],
 "metadata": {
  "kernelspec": {
   "display_name": ".venv",
   "language": "python",
   "name": "python3"
  },
  "language_info": {
   "codemirror_mode": {
    "name": "ipython",
    "version": 3
   },
   "file_extension": ".py",
   "mimetype": "text/x-python",
   "name": "python",
   "nbconvert_exporter": "python",
   "pygments_lexer": "ipython3",
   "version": "3.10.12"
  }
 },
 "nbformat": 4,
 "nbformat_minor": 2
}
