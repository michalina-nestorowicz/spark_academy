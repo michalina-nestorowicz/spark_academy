{
 "cells": [
  {
   "cell_type": "markdown",
   "metadata": {},
   "source": [
    "## Batch computation\n",
    "\n",
    "Before we begin with Streaming, let's go back to Spark batch computation. The most basic steps for batch procesing are:\n",
    "1. Read data from source file\n",
    "2. Do transformation\n",
    "3. Write transformed DataFrame to a file"
   ]
  },
  {
   "cell_type": "code",
   "execution_count": 1,
   "metadata": {},
   "outputs": [],
   "source": [
    "# Import libraries\n",
    "from pyspark.sql import SparkSession\n",
    "from pyspark.sql.functions import avg, round\n",
    "from pyspark.sql.types import StructType, StructField, IntegerType, StringType, DecimalType"
   ]
  },
  {
   "cell_type": "code",
   "execution_count": 2,
   "metadata": {},
   "outputs": [
    {
     "name": "stderr",
     "output_type": "stream",
     "text": [
      "your 131072x1 screen size is bogus. expect trouble\n",
      "24/12/04 15:34:09 WARN Utils: Your hostname, DELEQ0283302041 resolves to a loopback address: 127.0.1.1; using 10.255.255.254 instead (on interface lo)\n",
      "24/12/04 15:34:09 WARN Utils: Set SPARK_LOCAL_IP if you need to bind to another address\n",
      "Setting default log level to \"WARN\".\n",
      "To adjust logging level use sc.setLogLevel(newLevel). For SparkR, use setLogLevel(newLevel).\n",
      "24/12/04 15:34:10 WARN NativeCodeLoader: Unable to load native-hadoop library for your platform... using builtin-java classes where applicable\n"
     ]
    }
   ],
   "source": [
    "# Initialize a Spark session\n",
    "spark = SparkSession.builder.appName(\"Batch_Streaming_Comparison\").getOrCreate()"
   ]
  },
  {
   "cell_type": "code",
   "execution_count": 3,
   "metadata": {},
   "outputs": [],
   "source": [
    "# Defining schema for `data/batch_resource/real_estate.csv`\n",
    "real_estate_schema = StructType(\n",
    "    [StructField('UID', IntegerType()), \n",
    "    StructField('Location', StringType(), True), \n",
    "    StructField('Price', DecimalType(11,2), True), \n",
    "    StructField('Bedrooms', IntegerType(), True), \n",
    "    StructField('Bathrooms', IntegerType(), True), \n",
    "    StructField('Size', IntegerType(), True), \n",
    "    StructField('Price SQ Ft', DecimalType(7,2), True), \n",
    "    StructField('Status', StringType(), True)])"
   ]
  },
  {
   "cell_type": "markdown",
   "metadata": {},
   "source": [
    "### Exercise\n",
    "\n",
    "As a warmup exercise:\n",
    "1. Read csv files from `../data/batch_resource`\n",
    "2. Use earlier defined `real_estate_schema` StructType object\n",
    "3. Group data by `Location`\n",
    "4. Get average `Price` per `Location`. Round it to 2 decimal places\n",
    "5. Sort data by average price in descending order\n",
    "6. Print output to console"
   ]
  },
  {
   "cell_type": "code",
   "execution_count": 4,
   "metadata": {},
   "outputs": [
    {
     "name": "stdout",
     "output_type": "stream",
     "text": [
      "+-------------------+------------+\n",
      "|           Location|AveragePrice|\n",
      "+-------------------+------------+\n",
      "|         New Cuyama|    40900.00|\n",
      "|    Santa Margarita|    59900.00|\n",
      "|        Bakersfield|    91500.00|\n",
      "|          Guadalupe|   117250.00|\n",
      "|          King City|   131190.00|\n",
      "|             Lompoc|   149900.00|\n",
      "|        Out Of Area|   173900.00|\n",
      "|            Soledad|   184053.33|\n",
      "|         Greenfield|   184800.00|\n",
      "|           Coalinga|   202071.43|\n",
      "| Santa Maria-Orcutt|   231106.18|\n",
      "|             Lompoc|   241260.77|\n",
      "|         San Simeon|   274900.00|\n",
      "|         San Miguel|   283642.86|\n",
      "|            Creston|   309900.00|\n",
      "|            Solvang|   325000.00|\n",
      "| Santa Maria-Orcutt|   332546.08|\n",
      "|        Paso Robles|   334280.22|\n",
      "|           Los Osos|   359704.76|\n",
      "|       Grover Beach|   365615.00|\n",
      "+-------------------+------------+\n",
      "only showing top 20 rows\n",
      "\n"
     ]
    }
   ],
   "source": [
    "real_estate_batch = (\n",
    "    spark\n",
    "    .read\n",
    "    .schema(real_estate_schema)\n",
    "    .csv(\"../data/batch_resource\", header = True)\n",
    "    .groupBy(\"Location\")\n",
    "    .agg(round(avg(\"Price\"), 2).alias('AveragePrice'))\n",
    "    .orderBy('AveragePrice', desc=True)).show()"
   ]
  },
  {
   "cell_type": "markdown",
   "metadata": {},
   "source": [
    "Compare it to how the same process looks like in Spark Structured Streaming:"
   ]
  },
  {
   "cell_type": "code",
   "execution_count": 5,
   "metadata": {},
   "outputs": [
    {
     "name": "stderr",
     "output_type": "stream",
     "text": [
      "24/04/26 11:57:33 WARN ResolveWriteToStream: Temporary checkpoint location created which is deleted normally when the query didn't fail: /tmp/temporary-33e3b714-b66c-4919-9239-090383f3e5cc. If it's required to delete it under any circumstances, please set spark.sql.streaming.forceDeleteTempCheckpointLocation to true. Important to know deleting temp checkpoint folder is best effort.\n",
      "24/04/26 11:57:33 WARN ResolveWriteToStream: spark.sql.adaptive.enabled is not supported in streaming DataFrames/Datasets and will be disabled.\n"
     ]
    },
    {
     "name": "stderr",
     "output_type": "stream",
     "text": [
      "                                                                                \r"
     ]
    },
    {
     "name": "stdout",
     "output_type": "stream",
     "text": [
      "-------------------------------------------\n",
      "Batch: 0\n",
      "-------------------------------------------\n",
      "+-------------------+------------+\n",
      "|           Location|AveragePrice|\n",
      "+-------------------+------------+\n",
      "|         New Cuyama|    40900.00|\n",
      "|    Santa Margarita|    59900.00|\n",
      "|        Bakersfield|    91500.00|\n",
      "|          Guadalupe|   117250.00|\n",
      "|          King City|   131190.00|\n",
      "|             Lompoc|   149900.00|\n",
      "|        Out Of Area|   173900.00|\n",
      "|            Soledad|   184053.33|\n",
      "|         Greenfield|   184800.00|\n",
      "|           Coalinga|   202071.43|\n",
      "| Santa Maria-Orcutt|   231106.18|\n",
      "|             Lompoc|   241260.77|\n",
      "|         San Simeon|   274900.00|\n",
      "|         San Miguel|   283642.86|\n",
      "|            Creston|   309900.00|\n",
      "|            Solvang|   325000.00|\n",
      "| Santa Maria-Orcutt|   332546.08|\n",
      "|        Paso Robles|   334280.22|\n",
      "|           Los Osos|   359704.76|\n",
      "|       Grover Beach|   365615.00|\n",
      "+-------------------+------------+\n",
      "only showing top 20 rows\n",
      "\n"
     ]
    }
   ],
   "source": [
    "real_estate_stream = (spark\n",
    "    .readStream\n",
    "    .schema(real_estate_schema)\n",
    "    .csv(\"../data/batch_resource\", header=True)\n",
    "    .groupBy(\"Location\")\n",
    "    .agg(round(avg(\"Price\"), 2).alias('AveragePrice'))\n",
    "    .orderBy('AveragePrice')\n",
    "    .writeStream\n",
    "    .outputMode(\"complete\")\n",
    "    .format(\"console\")\n",
    "    .start())\n"
   ]
  },
  {
   "cell_type": "code",
   "execution_count": 25,
   "metadata": {},
   "outputs": [],
   "source": [
    "real_estate_stream.stop()"
   ]
  },
  {
   "cell_type": "markdown",
   "metadata": {},
   "source": [
    "The similarity between batch and streaming processing is very noticible. `readStream` and `writeStream` are counterparts to `read` and `write` in batch processing methods."
   ]
  }
 ],
 "metadata": {
  "kernelspec": {
   "display_name": ".venv",
   "language": "python",
   "name": "python3"
  },
  "language_info": {
   "codemirror_mode": {
    "name": "ipython",
    "version": 3
   },
   "file_extension": ".py",
   "mimetype": "text/x-python",
   "name": "python",
   "nbconvert_exporter": "python",
   "pygments_lexer": "ipython3",
   "version": "3.10.12"
  }
 },
 "nbformat": 4,
 "nbformat_minor": 2
}
