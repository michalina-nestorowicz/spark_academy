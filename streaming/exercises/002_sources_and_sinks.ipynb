{
 "cells": [
  {
   "cell_type": "markdown",
   "metadata": {},
   "source": [
    "## Sources: Acquiring Streaming Data\n",
    "\n",
    "Call to spark.readStream creates a `DataStreamReader` instance. This instance is in charge of managing the different stream formats and configurations provided through the builder method calls. \n",
    "\n",
    "If `DataStreamReader` was called with *.format(...)* method, only after calling *.load(...)* method on `DataStreamReader` instance, the options provided to the builder are validated and, if everything checks out, streaming DataFrame is returned.\n",
    "\n",
    "If `DataStreamReader` was called with diffrent \"loading\" methods, such as *.json(...)*, *.csv(...)* and more, streaming DataFrame is returned immediately\n"
   ]
  },
  {
   "cell_type": "markdown",
   "metadata": {},
   "source": [
    "### Available streaming source\n",
    "\n",
    "1. **File-based source** <br>\n",
    "    Monitors a path in a filesystem and consumes files atomically placed in it. The found files will then be parsed by the specified formatter and processed in order of file modification time.\n",
    "    Supported formats are: \n",
    "        * text\n",
    "        * csv\n",
    "        * json\n",
    "        * orc\n",
    "\n",
    "\n",
    "\n",
    "2. **Socket source**  <br>\n",
    "Establishes a client connection to a TCP server amd reads UTF-8 text data through a socket connection.\n",
    "3. **Kafka source** <br>\n",
    "Creates Kafka consumer able to retrieve data from Kafka.\n",
    "4. **Rate source & Rate per Micro-batch source** <br>\n",
    "Generates a stream of specified number of rows per second / specified number of rows per micro-batch . Each output row contains a *timestamp* and *value*.  It’s mainly intended as a testing source.\n",
    "5. **Table source** <br>\n",
    "Creates a Streaming DataFrame on a table\n"
   ]
  },
  {
   "cell_type": "code",
   "execution_count": 2,
   "metadata": {},
   "outputs": [
    {
     "name": "stderr",
     "output_type": "stream",
     "text": [
      "your 131072x1 screen size is bogus. expect trouble\n",
      "24/04/20 19:08:33 WARN Utils: Your hostname, DELEQ0283302041 resolves to a loopback address: 127.0.1.1; using 172.31.227.62 instead (on interface eth0)\n",
      "24/04/20 19:08:33 WARN Utils: Set SPARK_LOCAL_IP if you need to bind to another address\n",
      "Setting default log level to \"WARN\".\n",
      "To adjust logging level use sc.setLogLevel(newLevel). For SparkR, use setLogLevel(newLevel).\n",
      "24/04/20 19:08:34 WARN NativeCodeLoader: Unable to load native-hadoop library for your platform... using builtin-java classes where applicable\n",
      "24/04/20 19:08:35 WARN Utils: Service 'SparkUI' could not bind on port 4040. Attempting port 4041.\n",
      "24/04/20 19:08:35 WARN Utils: Service 'SparkUI' could not bind on port 4041. Attempting port 4042.\n"
     ]
    }
   ],
   "source": [
    "from pyspark.sql import SparkSession\n",
    "\n",
    "spark = SparkSession.builder \\\n",
    "        .appName(\"SourcesSinks\") \\\n",
    "        .config(\"spark.sql.warehouse.dir\", \"./warehouse\") \\\n",
    "        .enableHiveSupport() \\\n",
    "        .getOrCreate()"
   ]
  },
  {
   "cell_type": "code",
   "execution_count": 3,
   "metadata": {},
   "outputs": [
    {
     "name": "stderr",
     "output_type": "stream",
     "text": [
      "24/04/20 19:08:36 WARN HiveConf: HiveConf of name hive.stats.jdbc.timeout does not exist\n",
      "24/04/20 19:08:36 WARN HiveConf: HiveConf of name hive.stats.retries.wait does not exist\n",
      "24/04/20 19:08:37 WARN ObjectStore: Version information not found in metastore. hive.metastore.schema.verification is not enabled so recording the schema version 2.3.0\n",
      "24/04/20 19:08:37 WARN ObjectStore: setMetaStoreSchemaVersion called but recording version is disabled: version = 2.3.0, comment = Set by MetaStore mnestoro@127.0.1.1\n",
      "24/04/20 19:08:38 WARN ObjectStore: Failed to get database global_temp, returning NoSuchObjectException\n",
      "24/04/20 19:08:40 WARN SessionState: METASTORE_FILTER_HOOK will be ignored, since hive.security.authorization.manager is set to instance of HiveAuthorizerFactory.\n",
      "24/04/20 19:08:40 WARN HiveConf: HiveConf of name hive.internal.ss.authz.settings.applied.marker does not exist\n",
      "24/04/20 19:08:40 WARN HiveConf: HiveConf of name hive.stats.jdbc.timeout does not exist\n",
      "24/04/20 19:08:40 WARN HiveConf: HiveConf of name hive.stats.retries.wait does not exist\n"
     ]
    }
   ],
   "source": [
    "from pyspark.sql.types import StructType, StructField, IntegerType, StringType, DecimalType\n",
    "# define schema\n",
    "real_estate_schema = StructType(\n",
    "    [StructField('UID', IntegerType()), \n",
    "    StructField('Location', StringType(), True), \n",
    "    StructField('Price', DecimalType(15,2), True), \n",
    "    StructField('Bedrooms', IntegerType(), True), \n",
    "    StructField('Bathrooms', IntegerType(), True), \n",
    "    StructField('Size', IntegerType(), True), \n",
    "    StructField('Price SQ Ft', DecimalType(10,2), True), \n",
    "    StructField('Status', StringType(), True)])\n",
    "\n",
    "# Cleanup workspace from previous runs\n",
    "spark.sql(\"DROP TABLE IF EXISTS real_estate\")\n",
    "\n",
    "# create table from DataFrame\n",
    "real_estate_df = (\n",
    "    spark\n",
    "    .read\n",
    "    .schema(real_estate_schema)\n",
    "    .csv(\"../data/batch_resource\", header = True))\n",
    "\n",
    "real_estate_df.write.saveAsTable('real_estate')"
   ]
  },
  {
   "cell_type": "code",
   "execution_count": 4,
   "metadata": {},
   "outputs": [],
   "source": [
    "real_estate_stream = (\n",
    "    spark\n",
    "    .readStream\n",
    "    .format(\"table\")\n",
    "    .table(\"real_estate\"))"
   ]
  },
  {
   "cell_type": "markdown",
   "metadata": {},
   "source": [
    "Streaming DataFrame, like normal DataFrame, is lazily evaluated. What we get is a representation of the stream that we can use to express the series of transformations we want to apply.\n",
    "Creating a streaming DataFrame does not result in any data actually being consumed or processed until the stream is materialized. "
   ]
  },
  {
   "cell_type": "markdown",
   "metadata": {},
   "source": [
    "## Sinks: Output the resulting Data"
   ]
  },
  {
   "cell_type": "markdown",
   "metadata": {},
   "source": [
    "We materialize a stream by calling `writeStream` on a streaming DataFrame. We need to define *where* and *how* we want the output data to go:\n",
    "<br>\n",
    "    **Where**: streaming sink <br>\n",
    "    **How**: output mode\n",
    "\n",
    "\n",
    "\n",
    "Calling `writeStream` on a streaming Dataset creates a `DataStreamWriter`. This is a builder instance that provides methods to configure the output behavior of our streaming process."
   ]
  },
  {
   "cell_type": "markdown",
   "metadata": {},
   "source": [
    "### Available streaming sinks\n",
    "\n",
    "1. **Console sink**: A sink prints to the standard output\n",
    "2. **File sink**: File-based and format-specific sink that writes the results to a filesystem. \n",
    "3. **Kafka sink**: A Kafka-specific producer sink that is able to write to one or more Kafka topics.\n",
    "4. **Memory sink**: Creates an in-memory table using the provided query name as table name. This table receives continuous updates with the results of the stream.\n",
    "5. **Foreach sink**: Provides a programmatic interface to access the stream contents, one element at the time. Allows to run arbitrary computation on every row record in the output.\n",
    "6. **Foreach batch sink**: Provides a programmatic sink interface to the complete DataFrame that corresponds to each underlying microbatch of the Structured Streaming execution. Allows to run arbitrary operations and custom logic on the output of each micro-batch. (more on foreach method in later exercises)\n",
    "7. **Table sink**: Starts the execution of the streaming query, which will continually output results to the given table as new data arrives.\n"
   ]
  },
  {
   "cell_type": "markdown",
   "metadata": {},
   "source": [
    "### outputMode\n",
    "\n",
    "**`append`**(default mode) <br>\n",
    "Adds only final records to the output stream. A record is considered final when no new records of the incoming stream can modify its value. This is always the case with linear transformations like those resulting from applying projection, filtering, and mapping. This mode guarantees that each row will output only once.\n",
    "\n",
    "**`update`** <br>\n",
    "Adds new and updated records since the last trigger to the output stream. Update is meaningful only in the context of an aggregation, where aggregated values change as new records arrive. If more than one incoming record changes a single result, all changes between trigger intervals are collated into one output record.\n",
    "\n",
    "**`complete`** <br>\n",
    "Complete mode outputs the complete internal representation of the stream. This mode also relates to aggregations, because for nonaggregated streams, we would need to remember all records seen so far, which is unrealistic. "
   ]
  },
  {
   "cell_type": "markdown",
   "metadata": {},
   "source": [
    "### Triggers\n",
    "`trigger` option lets us specify the frequency at which we want the results to be produced. By default, Structured Streaming will process the input and produce a result as soon as possible. When a trigger is specified, output will be produced at each trigger interval.\n",
    "\n",
    "* **Fixed interval micro-batches**: Query will be executed with user specified time interval that will dictate the frequency of the query results.\n",
    "* **Available**: Query will process all the available data and then stop on its own.\n",
    "* **Continuous**: Switches the execution engine to the experimental continuous engine for low-latency processing.\n"
   ]
  },
  {
   "cell_type": "markdown",
   "metadata": {},
   "source": [
    "After this long introduction, let's finaly write output the stream!\n",
    "\n",
    "`start()` materializes the complete job description into a streaming computation and initiates the internal scheduling process that results in data being consumed from the source, processed, and produced to the sink. `start()` returns a *`StreamingQuery`* instance, which provides a handle that is executing continuosly in the background as new data arrivews. Handle manages the individual life cycle of each query. This means that we can simultaneously start and stop multiple queries independently of one other within the same sparkSession.\n"
   ]
  },
  {
   "cell_type": "code",
   "execution_count": 1,
   "metadata": {},
   "outputs": [
    {
     "ename": "NameError",
     "evalue": "name 'real_estate_stream' is not defined",
     "output_type": "error",
     "traceback": [
      "\u001b[0;31m---------------------------------------------------------------------------\u001b[0m",
      "\u001b[0;31mNameError\u001b[0m                                 Traceback (most recent call last)",
      "Cell \u001b[0;32mIn[1], line 1\u001b[0m\n\u001b[0;32m----> 1\u001b[0m query \u001b[38;5;241m=\u001b[39m \u001b[43mreal_estate_stream\u001b[49m\u001b[38;5;241m.\u001b[39mwriteStream\u001b[38;5;241m.\u001b[39mformat(\u001b[38;5;124m\"\u001b[39m\u001b[38;5;124mconsole\u001b[39m\u001b[38;5;124m\"\u001b[39m)\u001b[38;5;241m.\u001b[39mqueryName(\u001b[38;5;124m\"\u001b[39m\u001b[38;5;124mTable stream\u001b[39m\u001b[38;5;124m\"\u001b[39m)\u001b[38;5;241m.\u001b[39moutputMode(\u001b[38;5;124m\"\u001b[39m\u001b[38;5;124mappend\u001b[39m\u001b[38;5;124m\"\u001b[39m)\n",
      "\u001b[0;31mNameError\u001b[0m: name 'real_estate_stream' is not defined"
     ]
    }
   ],
   "source": [
    "query = real_estate_stream.writeStream.format(\"console\").queryName(\"Table stream\").outputMode(\"append\").start()"
   ]
  },
  {
   "cell_type": "markdown",
   "metadata": {},
   "source": [
    "*query* object we have just created is `StreamingQuery` instance. It provides a handle to query that is executing continuously in the background as new data arrives\n",
    " "
   ]
  },
  {
   "cell_type": "code",
   "execution_count": 6,
   "metadata": {},
   "outputs": [
    {
     "data": {
      "text/plain": [
       "True"
      ]
     },
     "execution_count": 6,
     "metadata": {},
     "output_type": "execute_result"
    }
   ],
   "source": [
    "\n",
    "query.isActive"
   ]
  },
  {
   "cell_type": "code",
   "execution_count": null,
   "metadata": {},
   "outputs": [],
   "source": [
    "query.lastProgress"
   ]
  },
  {
   "cell_type": "markdown",
   "metadata": {},
   "source": []
  }
 ],
 "metadata": {
  "kernelspec": {
   "display_name": ".venv",
   "language": "python",
   "name": "python3"
  },
  "language_info": {
   "codemirror_mode": {
    "name": "ipython",
    "version": 3
   },
   "file_extension": ".py",
   "mimetype": "text/x-python",
   "name": "python",
   "nbconvert_exporter": "python",
   "pygments_lexer": "ipython3",
   "version": "3.10.12"
  }
 },
 "nbformat": 4,
 "nbformat_minor": 2
}
