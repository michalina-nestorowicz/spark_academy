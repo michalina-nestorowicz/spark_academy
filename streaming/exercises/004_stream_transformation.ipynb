{
 "cells": [
  {
   "cell_type": "markdown",
   "metadata": {},
   "source": [
    "# Transforming Streaming Data\n",
    "\n",
    "Most of the common operations on DataFrame/Dataset are supported for streaming.\n",
    "\n",
    "We already seen that operations such as: `filter`, `groupBy`, `select` can be applied on streaming Dataframes\n",
    "\n",
    "### Transformations Caveats\n",
    "\n",
    "Some operations that are offered by the standard DataFrame API do not make sense on a streaming context or would be very diffucult to implement on streaming data.\n",
    "\n",
    "Operations not supported on streaming datasets are:\n",
    "\n",
    "* limit / take(n)\n",
    "* distinct - would require infinite memory and computational complexity of $O(n^2)$ \n",
    "* some outer joins *(more on that later)*\n",
    "* count - cannot return a single count from a streaming dataset. Hoewever, we can use count on grouped data\n",
    "* show - requires an immediate materialization of the query. Instead we can use `console` sink\n",
    "* foreach - cannot be used directly on a stream, but there is a `foreach` sink that provides the same functionality\n"
   ]
  },
  {
   "cell_type": "markdown",
   "metadata": {},
   "source": [
    "## Event time processing\n",
    "\n",
    "..."
   ]
  },
  {
   "cell_type": "markdown",
   "metadata": {},
   "source": []
  }
 ],
 "metadata": {
  "language_info": {
   "name": "python"
  }
 },
 "nbformat": 4,
 "nbformat_minor": 2
}
