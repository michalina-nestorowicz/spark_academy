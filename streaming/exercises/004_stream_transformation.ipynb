{
 "cells": [
  {
   "cell_type": "markdown",
   "metadata": {},
   "source": [
    "# Transforming Streaming Data\n",
    "\n",
    "Most of the common operations on DataFrame/Dataset are supported for streaming.\n",
    "\n",
    "We already seen that operations such as: `filter`, `groupBy`, `select` can be applied on streaming Dataframes\n",
    "\n",
    "### Transformations Caveats\n",
    "\n",
    "Some operations that are offered by the standard DataFrame API do not make sense on a streaming context or would be very diffucult to implement on streaming data.\n",
    "\n",
    "Operations **not supported** on streaming datasets are:\n",
    "\n",
    "* limit / take(n)\n",
    "* distinct - would require infinite memory and computational complexity of $O(n^2)$ \n",
    "* some outer joins \n",
    "* count - cannot return a single count from a streaming dataset. However, we can use count on aggregated data\n",
    "* show - requires an immediate materialization of the query. Instead we can use `console` sink\n",
    "* foreach - cannot be used directly on a stream, but there is a `foreach` sink that provides the same functionality\n"
   ]
  },
  {
   "cell_type": "markdown",
   "metadata": {},
   "source": [
    "## Event time processing\n",
    "\n",
    "*Event time* relates to the timeline at which events were produced.\n",
    "In contrast, *processing time* is the timeline when events are ingested by the engine, and it is based on the clock of the computers processing the event stream. It’s is the “now” when the events enter the processing engine.\n",
    "\n",
    "Structured Streaming processes data based on **event time**, inferring their timeline by tracking a continuously increasing upper bound of the timestamp field. This timeline serves as the primary clock for time-based processing. Structured Streaming's understanding of event time allows it to separate event generation from processing time. \n",
    "In particular, we can replay a sequence of past events and produced the correct results for all event-time aggregations. We could, for example, replay a week’s worth of events in a few minutes and have our system produce results consistent with a week period.\n",
    "\n"
   ]
  },
  {
   "cell_type": "markdown",
   "metadata": {},
   "source": [
    "### Time-Based Window aggregations\n",
    "\n",
    "Time-based window aggregation in Spark Structured Streaming involves grouping events into time intervals, such as the last 15 minutes or the last hour, and then computing aggregate functions over these intervals. This allows us to analyze the properties of events over specific time periods.\n",
    "Moreover, the very idea of stream processing is that the system is supposed to be long-running, dealing with a continuous stream of data. As these events keep coming in, the older ones usually become less and less relevant.\n",
    "\n",
    "\n",
    "Window aggregations are declared using a `window` function as grouping criteria. The window function **must** be applied to the field that we want to use as event time.\n",
    "\n",
    "##### Example\n",
    "\n",
    "Let's us reuse *word_count* introduction example to see better window aggregation"
   ]
  },
  {
   "cell_type": "code",
   "execution_count": 1,
   "metadata": {},
   "outputs": [
    {
     "name": "stderr",
     "output_type": "stream",
     "text": [
      "your 131072x1 screen size is bogus. expect trouble\n",
      "24/04/25 22:08:41 WARN Utils: Your hostname, DELEQ0283302041 resolves to a loopback address: 127.0.1.1; using 172.31.227.62 instead (on interface eth0)\n",
      "24/04/25 22:08:41 WARN Utils: Set SPARK_LOCAL_IP if you need to bind to another address\n",
      "Setting default log level to \"WARN\".\n",
      "To adjust logging level use sc.setLogLevel(newLevel). For SparkR, use setLogLevel(newLevel).\n",
      "24/04/25 22:08:43 WARN NativeCodeLoader: Unable to load native-hadoop library for your platform... using builtin-java classes where applicable\n",
      "24/04/25 22:08:44 WARN TextSocketSourceProvider: The socket source should not be used for production applications! It does not support recovery.\n"
     ]
    }
   ],
   "source": [
    "from pyspark.sql import SparkSession\n",
    "from pyspark.sql.functions import explode, split, window\n",
    "\n",
    "spark = SparkSession.builder.appName(\"TimeAggregations\").getOrCreate()\n",
    "\n",
    "\n",
    "# Create DataFrame representing the stream of input lines from connection to localhost:9999\n",
    "lines = spark \\\n",
    "    .readStream \\\n",
    "    .format(\"socket\") \\\n",
    "    .option(\"host\", \"localhost\") \\\n",
    "    .option(\"port\", 9999) \\\n",
    "    .option('includeTimestamp', 'true') \\\n",
    "    .load()\n",
    "\n",
    "# Split the lines into words\n",
    "words = lines.select(\n",
    "        explode(split(lines.value, ' ')).alias('word'),\n",
    "        lines.timestamp\n",
    "    )"
   ]
  },
  {
   "cell_type": "code",
   "execution_count": 2,
   "metadata": {},
   "outputs": [
    {
     "name": "stderr",
     "output_type": "stream",
     "text": [
      "24/04/25 22:08:50 WARN ResolveWriteToStream: Temporary checkpoint location created which is deleted normally when the query didn't fail: /tmp/temporary-97701a28-2275-40aa-a594-88797f533890. If it's required to delete it under any circumstances, please set spark.sql.streaming.forceDeleteTempCheckpointLocation to true. Important to know deleting temp checkpoint folder is best effort.\n",
      "24/04/25 22:08:50 WARN ResolveWriteToStream: spark.sql.adaptive.enabled is not supported in streaming DataFrames/Datasets and will be disabled.\n"
     ]
    },
    {
     "name": "stderr",
     "output_type": "stream",
     "text": [
      "                                                                                \r"
     ]
    },
    {
     "name": "stdout",
     "output_type": "stream",
     "text": [
      "-------------------------------------------\n",
      "Batch: 0\n",
      "-------------------------------------------\n",
      "+------+----+-----+\n",
      "|window|word|count|\n",
      "+------+----+-----+\n",
      "+------+----+-----+\n",
      "\n"
     ]
    },
    {
     "name": "stderr",
     "output_type": "stream",
     "text": [
      "                                                                                \r"
     ]
    },
    {
     "name": "stdout",
     "output_type": "stream",
     "text": [
      "-------------------------------------------\n",
      "Batch: 1\n",
      "-------------------------------------------\n",
      "+------------------------------------------+-----+-----+\n",
      "|window                                    |word |count|\n",
      "+------------------------------------------+-----+-----+\n",
      "|{2024-04-25 22:00:00, 2024-04-25 22:10:00}|hello|4    |\n",
      "|{2024-04-25 22:05:00, 2024-04-25 22:15:00}|hello|4    |\n",
      "+------------------------------------------+-----+-----+\n",
      "\n"
     ]
    }
   ],
   "source": [
    "# Group the data by window and word and compute the count of each group\n",
    "windowedCounts = words.groupBy(\n",
    "    window(words.timestamp, \"10 minutes\", \"5 minutes\"),\n",
    "    words.word\n",
    ").count().orderBy(\"window\")\n",
    "\n",
    "\n",
    "    # Start running the query that prints the windowed word counts to the console\n",
    "query = windowedCounts\\\n",
    "        .writeStream\\\n",
    "        .outputMode('complete')\\\n",
    "        .format('console')\\\n",
    "        .option('truncate', 'false')\\\n",
    "        .start()"
   ]
  },
  {
   "cell_type": "markdown",
   "metadata": {},
   "source": [
    "Parameters for `window` functions:\n",
    "* `timeColumn`: ColumnorName, -> requires TimeStamp | TimeStampNTZType\n",
    "* `windowDuration`: string, -> width of the window provided in str. \n",
    "    Valid interval strings are 'week', 'day', 'hour', 'minute', 'second', 'millisecond', 'microsecond'.\n",
    "* `slideDuration`: string, ->  reporting frequency. Must be less or equal `windowDuration`. If not provided, provided window column will be a tumbling one\n",
    "* `startTime`: string -> offset window allignment. Foe example, offsetting a 10-minute window with a slide duration of 5 minutes by 2 minutes, resulting in time intervals like *00:02-00:12, 00:07-00:17, 00:12-00:22, ...*"
   ]
  },
  {
   "cell_type": "markdown",
   "metadata": {},
   "source": [
    "### Watermarks\n",
    "\n",
    "A watermark is a time threshold that dictates how long we wait for events before declaring that they are too late. Events that are considered late beyond the watermark are discarded."
   ]
  },
  {
   "cell_type": "code",
   "execution_count": 3,
   "metadata": {},
   "outputs": [],
   "source": [
    "windowedCounts = words \\\n",
    "    .withWatermark(\"timestamp\", \"10 minutes\") \\\n",
    "    .groupBy(\n",
    "        window(words.timestamp, \"10 minutes\", \"5 minutes\"),\n",
    "        words.word) \\\n",
    "    .count().orderBy(\"window\")"
   ]
  },
  {
   "cell_type": "code",
   "execution_count": 4,
   "metadata": {},
   "outputs": [
    {
     "name": "stderr",
     "output_type": "stream",
     "text": [
      "24/04/25 22:10:53 WARN ResolveWriteToStream: Temporary checkpoint location created which is deleted normally when the query didn't fail: /tmp/temporary-060db00b-a626-4ed3-8a52-26f3b6561073. If it's required to delete it under any circumstances, please set spark.sql.streaming.forceDeleteTempCheckpointLocation to true. Important to know deleting temp checkpoint folder is best effort.\n",
      "24/04/25 22:10:53 WARN ResolveWriteToStream: spark.sql.adaptive.enabled is not supported in streaming DataFrames/Datasets and will be disabled.\n"
     ]
    },
    {
     "name": "stderr",
     "output_type": "stream",
     "text": [
      "                                                                                \r"
     ]
    },
    {
     "name": "stdout",
     "output_type": "stream",
     "text": [
      "-------------------------------------------\n",
      "Batch: 0\n",
      "-------------------------------------------\n",
      "+------+----+-----+\n",
      "|window|word|count|\n",
      "+------+----+-----+\n",
      "+------+----+-----+\n",
      "\n"
     ]
    },
    {
     "name": "stderr",
     "output_type": "stream",
     "text": [
      "                                                                                \r"
     ]
    },
    {
     "name": "stdout",
     "output_type": "stream",
     "text": [
      "-------------------------------------------\n",
      "Batch: 2\n",
      "-------------------------------------------\n",
      "+------------------------------------------+-----+-----+\n",
      "|window                                    |word |count|\n",
      "+------------------------------------------+-----+-----+\n",
      "|{2024-04-25 22:00:00, 2024-04-25 22:10:00}|hello|4    |\n",
      "|{2024-04-25 22:05:00, 2024-04-25 22:15:00}|hello|5    |\n",
      "|{2024-04-25 22:10:00, 2024-04-25 22:20:00}|hello|1    |\n",
      "+------------------------------------------+-----+-----+\n",
      "\n"
     ]
    },
    {
     "name": "stderr",
     "output_type": "stream",
     "text": [
      "                                                                                \r"
     ]
    },
    {
     "name": "stdout",
     "output_type": "stream",
     "text": [
      "-------------------------------------------\n",
      "Batch: 3\n",
      "-------------------------------------------\n",
      "+------------------------------------------+------+-----+\n",
      "|window                                    |word  |count|\n",
      "+------------------------------------------+------+-----+\n",
      "|{2024-04-25 22:00:00, 2024-04-25 22:10:00}|hello |4    |\n",
      "|{2024-04-25 22:05:00, 2024-04-25 22:15:00}|hello |5    |\n",
      "|{2024-04-25 22:05:00, 2024-04-25 22:15:00}|apache|1    |\n",
      "|{2024-04-25 22:05:00, 2024-04-25 22:15:00}|spark |1    |\n",
      "|{2024-04-25 22:05:00, 2024-04-25 22:15:00}|hadoop|1    |\n",
      "|{2024-04-25 22:10:00, 2024-04-25 22:20:00}|hello |1    |\n",
      "|{2024-04-25 22:10:00, 2024-04-25 22:20:00}|apache|1    |\n",
      "|{2024-04-25 22:10:00, 2024-04-25 22:20:00}|hadoop|1    |\n",
      "|{2024-04-25 22:10:00, 2024-04-25 22:20:00}|spark |1    |\n",
      "+------------------------------------------+------+-----+\n",
      "\n"
     ]
    },
    {
     "name": "stderr",
     "output_type": "stream",
     "text": [
      "                                                                                \r"
     ]
    },
    {
     "name": "stdout",
     "output_type": "stream",
     "text": [
      "-------------------------------------------\n",
      "Batch: 4\n",
      "-------------------------------------------\n",
      "+------------------------------------------+------+-----+\n",
      "|window                                    |word  |count|\n",
      "+------------------------------------------+------+-----+\n",
      "|{2024-04-25 22:00:00, 2024-04-25 22:10:00}|hello |4    |\n",
      "|{2024-04-25 22:05:00, 2024-04-25 22:15:00}|hello |6    |\n",
      "|{2024-04-25 22:05:00, 2024-04-25 22:15:00}|apache|1    |\n",
      "|{2024-04-25 22:05:00, 2024-04-25 22:15:00}|spark |1    |\n",
      "|{2024-04-25 22:05:00, 2024-04-25 22:15:00}|hadoop|1    |\n",
      "|{2024-04-25 22:10:00, 2024-04-25 22:20:00}|hello |2    |\n",
      "|{2024-04-25 22:10:00, 2024-04-25 22:20:00}|apache|1    |\n",
      "|{2024-04-25 22:10:00, 2024-04-25 22:20:00}|hadoop|1    |\n",
      "|{2024-04-25 22:10:00, 2024-04-25 22:20:00}|spark |1    |\n",
      "+------------------------------------------+------+-----+\n",
      "\n"
     ]
    },
    {
     "name": "stderr",
     "output_type": "stream",
     "text": [
      "                                                                                \r"
     ]
    },
    {
     "name": "stdout",
     "output_type": "stream",
     "text": [
      "-------------------------------------------\n",
      "Batch: 5\n",
      "-------------------------------------------\n",
      "+------------------------------------------+------+-----+\n",
      "|window                                    |word  |count|\n",
      "+------------------------------------------+------+-----+\n",
      "|{2024-04-25 22:00:00, 2024-04-25 22:10:00}|hello |4    |\n",
      "|{2024-04-25 22:05:00, 2024-04-25 22:15:00}|hello |7    |\n",
      "|{2024-04-25 22:05:00, 2024-04-25 22:15:00}|apache|1    |\n",
      "|{2024-04-25 22:05:00, 2024-04-25 22:15:00}|spark |1    |\n",
      "|{2024-04-25 22:05:00, 2024-04-25 22:15:00}|hadoop|1    |\n",
      "|{2024-04-25 22:10:00, 2024-04-25 22:20:00}|hello |3    |\n",
      "|{2024-04-25 22:10:00, 2024-04-25 22:20:00}|apache|1    |\n",
      "|{2024-04-25 22:10:00, 2024-04-25 22:20:00}|hadoop|1    |\n",
      "|{2024-04-25 22:10:00, 2024-04-25 22:20:00}|spark |1    |\n",
      "+------------------------------------------+------+-----+\n",
      "\n"
     ]
    }
   ],
   "source": [
    "query_with_watermark = windowedCounts.writeStream.outputMode(\"complete\").format(\"console\") \\\n",
    "    .option('truncate', 'false') \\\n",
    "    .queryName(\"window_counts_watermarked\").start()"
   ]
  },
  {
   "cell_type": "markdown",
   "metadata": {},
   "source": [
    "### Deduplication\n",
    "\n",
    "Structured Streaming offers a built-in function that removes duplicate records in the stream. It is possible to specify a watermark that determines when it is safe to discard previously seen key.\n",
    "\n",
    "##### Record deduplication without watermark\n",
    "\n",
    "Requires you to store all received values for the set of fields defining a unique record, which can potentially be unbounded. (Discouraged method)\n",
    "\n",
    "**Example**"
   ]
  },
  {
   "cell_type": "code",
   "execution_count": null,
   "metadata": {},
   "outputs": [],
   "source": [
    "words.dropDuplicates(\"words\")"
   ]
  },
  {
   "cell_type": "markdown",
   "metadata": {},
   "source": [
    "##### Record deduplication with watermark\n",
    "\n"
   ]
  },
  {
   "cell_type": "code",
   "execution_count": null,
   "metadata": {},
   "outputs": [],
   "source": [
    "words.withWatermark(\"timestamp\", \"10 minutes\").dropDuplicates(\"words\")"
   ]
  },
  {
   "cell_type": "markdown",
   "metadata": {},
   "source": [
    "With watermatk, keys older than the watermark become eligible for deletion, allowing the state store to keep its storage needs bounded."
   ]
  },
  {
   "cell_type": "code",
   "execution_count": 9,
   "metadata": {},
   "outputs": [
    {
     "name": "stderr",
     "output_type": "stream",
     "text": [
      "24/04/25 22:27:51 WARN ResolveWriteToStream: Temporary checkpoint location created which is deleted normally when the query didn't fail: /tmp/temporary-a5c4995b-a91b-4942-944d-0bb094eb9ea5. If it's required to delete it under any circumstances, please set spark.sql.streaming.forceDeleteTempCheckpointLocation to true. Important to know deleting temp checkpoint folder is best effort.\n",
      "24/04/25 22:27:51 WARN ResolveWriteToStream: spark.sql.adaptive.enabled is not supported in streaming DataFrames/Datasets and will be disabled.\n"
     ]
    },
    {
     "name": "stderr",
     "output_type": "stream",
     "text": [
      "                                                                                \r"
     ]
    },
    {
     "name": "stdout",
     "output_type": "stream",
     "text": [
      "-------------------------------------------\n",
      "Batch: 0\n",
      "-------------------------------------------\n",
      "+----+---------+\n",
      "|word|timestamp|\n",
      "+----+---------+\n",
      "+----+---------+\n",
      "\n"
     ]
    },
    {
     "name": "stderr",
     "output_type": "stream",
     "text": [
      "                                                                                \r"
     ]
    },
    {
     "name": "stdout",
     "output_type": "stream",
     "text": [
      "-------------------------------------------\n",
      "Batch: 6\n",
      "-------------------------------------------\n",
      "+------------------------------------------+------+-----+\n",
      "|window                                    |word  |count|\n",
      "+------------------------------------------+------+-----+\n",
      "|{2024-04-25 22:00:00, 2024-04-25 22:10:00}|hello |4    |\n",
      "|{2024-04-25 22:05:00, 2024-04-25 22:15:00}|hello |7    |\n",
      "|{2024-04-25 22:05:00, 2024-04-25 22:15:00}|apache|1    |\n",
      "|{2024-04-25 22:05:00, 2024-04-25 22:15:00}|spark |1    |\n",
      "|{2024-04-25 22:05:00, 2024-04-25 22:15:00}|hadoop|1    |\n",
      "|{2024-04-25 22:10:00, 2024-04-25 22:20:00}|hello |3    |\n",
      "|{2024-04-25 22:10:00, 2024-04-25 22:20:00}|apache|1    |\n",
      "|{2024-04-25 22:10:00, 2024-04-25 22:20:00}|hadoop|1    |\n",
      "|{2024-04-25 22:10:00, 2024-04-25 22:20:00}|spark |1    |\n",
      "|{2024-04-25 22:20:00, 2024-04-25 22:30:00}|hello |1    |\n",
      "|{2024-04-25 22:25:00, 2024-04-25 22:35:00}|hello |1    |\n",
      "+------------------------------------------+------+-----+\n",
      "\n"
     ]
    },
    {
     "name": "stderr",
     "output_type": "stream",
     "text": [
      "                                                                                \r"
     ]
    },
    {
     "name": "stdout",
     "output_type": "stream",
     "text": [
      "-------------------------------------------\n",
      "Batch: 7\n",
      "-------------------------------------------\n",
      "+------------------------------------------+------+-----+\n",
      "|window                                    |word  |count|\n",
      "+------------------------------------------+------+-----+\n",
      "|{2024-04-25 22:00:00, 2024-04-25 22:10:00}|hello |4    |\n",
      "|{2024-04-25 22:05:00, 2024-04-25 22:15:00}|hello |7    |\n",
      "|{2024-04-25 22:05:00, 2024-04-25 22:15:00}|apache|1    |\n",
      "|{2024-04-25 22:05:00, 2024-04-25 22:15:00}|spark |1    |\n",
      "|{2024-04-25 22:05:00, 2024-04-25 22:15:00}|hadoop|1    |\n",
      "|{2024-04-25 22:10:00, 2024-04-25 22:20:00}|hello |3    |\n",
      "|{2024-04-25 22:10:00, 2024-04-25 22:20:00}|apache|1    |\n",
      "|{2024-04-25 22:10:00, 2024-04-25 22:20:00}|hadoop|1    |\n",
      "|{2024-04-25 22:10:00, 2024-04-25 22:20:00}|spark |1    |\n",
      "|{2024-04-25 22:20:00, 2024-04-25 22:30:00}|hello |2    |\n",
      "|{2024-04-25 22:25:00, 2024-04-25 22:35:00}|hello |2    |\n",
      "+------------------------------------------+------+-----+\n",
      "\n"
     ]
    },
    {
     "name": "stderr",
     "output_type": "stream",
     "text": [
      "                                                                                \r"
     ]
    },
    {
     "name": "stdout",
     "output_type": "stream",
     "text": [
      "-------------------------------------------\n",
      "Batch: 8\n",
      "-------------------------------------------\n",
      "+------------------------------------------+------+-----+\n",
      "|window                                    |word  |count|\n",
      "+------------------------------------------+------+-----+\n",
      "|{2024-04-25 22:00:00, 2024-04-25 22:10:00}|hello |4    |\n",
      "|{2024-04-25 22:05:00, 2024-04-25 22:15:00}|hello |7    |\n",
      "|{2024-04-25 22:05:00, 2024-04-25 22:15:00}|apache|1    |\n",
      "|{2024-04-25 22:05:00, 2024-04-25 22:15:00}|spark |1    |\n",
      "|{2024-04-25 22:05:00, 2024-04-25 22:15:00}|hadoop|1    |\n",
      "|{2024-04-25 22:10:00, 2024-04-25 22:20:00}|hello |3    |\n",
      "|{2024-04-25 22:10:00, 2024-04-25 22:20:00}|apache|1    |\n",
      "|{2024-04-25 22:10:00, 2024-04-25 22:20:00}|hadoop|1    |\n",
      "|{2024-04-25 22:10:00, 2024-04-25 22:20:00}|spark |1    |\n",
      "|{2024-04-25 22:20:00, 2024-04-25 22:30:00}|helo  |1    |\n",
      "|{2024-04-25 22:20:00, 2024-04-25 22:30:00}|hello |2    |\n",
      "|{2024-04-25 22:25:00, 2024-04-25 22:35:00}|hello |2    |\n",
      "|{2024-04-25 22:25:00, 2024-04-25 22:35:00}|helo  |1    |\n",
      "+------------------------------------------+------+-----+\n",
      "\n"
     ]
    }
   ],
   "source": [
    "uniqueCounts = words.withWatermark(\"timestamp\", \"10 minutes\").dropDuplicates([\"word\", \"timestamp\"])\n",
    "\n",
    "query_deduplication = uniqueCounts.writeStream.outputMode(\"append\").format(\"console\") \\\n",
    "    .option('truncate', 'false') \\\n",
    "    .queryName(\"window_deduplication\").start()"
   ]
  },
  {
   "cell_type": "code",
   "execution_count": null,
   "metadata": {},
   "outputs": [],
   "source": []
  }
 ],
 "metadata": {
  "kernelspec": {
   "display_name": ".venv",
   "language": "python",
   "name": "python3"
  },
  "language_info": {
   "codemirror_mode": {
    "name": "ipython",
    "version": 3
   },
   "file_extension": ".py",
   "mimetype": "text/x-python",
   "name": "python",
   "nbconvert_exporter": "python",
   "pygments_lexer": "ipython3",
   "version": "3.10.12"
  }
 },
 "nbformat": 4,
 "nbformat_minor": 2
}
