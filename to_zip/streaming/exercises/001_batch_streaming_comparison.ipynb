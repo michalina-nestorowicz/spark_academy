{
 "cells": [
  {
   "cell_type": "markdown",
   "metadata": {},
   "source": [
    "## Batch computation\n",
    "\n",
    "Before we begin with Streaming, let's go back to Spark batch computation. The most basic steps for batch procesing are:\n",
    "1. Read data from source file\n",
    "2. Do transformation\n",
    "3. Write transformed DataFrame to a file"
   ]
  },
  {
   "cell_type": "code",
   "execution_count": null,
   "metadata": {},
   "outputs": [],
   "source": [
    "# Import libraries\n",
    "from pyspark.sql import SparkSession\n",
    "from pyspark.sql.functions import avg, round\n",
    "from pyspark.sql.types import StructType, StructField, IntegerType, StringType, DecimalType"
   ]
  },
  {
   "cell_type": "code",
   "execution_count": null,
   "metadata": {},
   "outputs": [],
   "source": [
    "# Initialize a Spark session\n",
    "spark = SparkSession.builder.appName(\"Batch_Streaming_Comparison\").getOrCreate()"
   ]
  },
  {
   "cell_type": "code",
   "execution_count": null,
   "metadata": {},
   "outputs": [],
   "source": [
    "# Defining schema for `data/batch_resource/real_estate.csv`\n",
    "real_estate_schema = StructType(\n",
    "    [StructField('UID', IntegerType()), \n",
    "    StructField('Location', StringType(), True), \n",
    "    StructField('Price', DecimalType(11,2), True), \n",
    "    StructField('Bedrooms', IntegerType(), True), \n",
    "    StructField('Bathrooms', IntegerType(), True), \n",
    "    StructField('Size', IntegerType(), True), \n",
    "    StructField('Price SQ Ft', DecimalType(7,2), True), \n",
    "    StructField('Status', StringType(), True)])"
   ]
  },
  {
   "cell_type": "markdown",
   "metadata": {},
   "source": [
    "### Exercise\n",
    "\n",
    "As a warmup exercise:\n",
    "1. Read csv files from `../data/batch_resource`\n",
    "2. Use earlier defined `real_estate_schema` StructType object\n",
    "3. Group data by `Location`\n",
    "4. Get average `Price` per `Location`. Round it to 2 decimal places\n",
    "5. Sort data by average price in descending order\n",
    "6. Print output to console"
   ]
  },
  {
   "cell_type": "code",
   "execution_count": null,
   "metadata": {},
   "outputs": [],
   "source": [
    "# TODO: \n",
    "\n",
    "real_estate_batch = ..."
   ]
  },
  {
   "cell_type": "markdown",
   "metadata": {},
   "source": [
    "Compare it to how the same process looks like in Spark Structured Streaming:"
   ]
  },
  {
   "cell_type": "code",
   "execution_count": null,
   "metadata": {},
   "outputs": [],
   "source": [
    "real_estate_stream = (spark\n",
    "    .readStream\n",
    "    .schema(real_estate_schema)\n",
    "    .csv(\"../data/batch_resource\", header=True)\n",
    "    .groupBy(\"Location\")\n",
    "    .agg(round(avg(\"Price\"), 2).alias('AveragePrice'))\n",
    "    .orderBy('AveragePrice')\n",
    "    .writeStream\n",
    "    .outputMode(\"complete\")\n",
    "    .format(\"console\")\n",
    "    .start())\n"
   ]
  },
  {
   "cell_type": "code",
   "execution_count": null,
   "metadata": {},
   "outputs": [],
   "source": [
    "real_estate_stream.stop()"
   ]
  },
  {
   "cell_type": "markdown",
   "metadata": {},
   "source": [
    "The similarity between batch and streaming processing is very noticible. `readStream` and `writeStream` are counterparts to `read` and `write` in batch processing methods."
   ]
  }
 ],
 "metadata": {
  "kernelspec": {
   "display_name": ".venv",
   "language": "python",
   "name": "python3"
  },
  "language_info": {
   "codemirror_mode": {
    "name": "ipython",
    "version": 3
   },
   "file_extension": ".py",
   "mimetype": "text/x-python",
   "name": "python",
   "nbconvert_exporter": "python",
   "pygments_lexer": "ipython3",
   "version": "3.10.12"
  }
 },
 "nbformat": 4,
 "nbformat_minor": 2
}
