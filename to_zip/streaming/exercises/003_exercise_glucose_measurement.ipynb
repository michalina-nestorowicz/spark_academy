{
 "cells": [
  {
   "cell_type": "markdown",
   "metadata": {},
   "source": [
    "# Exercise\n",
    "\n",
    "You were given a task to display measurement from continuous glucose monitoring device (CGM) `GlucoSpark`. Control enginners from your company have already setup test device that sends data through socket on port `65432` directly on your machine.\n",
    "The signal send by a device is a comma separated line with `<eventTime>,<glucoseMeasurement>,<displayUnit>,<cgmId>`, that ends with newline sign.\n",
    "Unfortunetly, device sometimes catches backgroud noise signal and displays irrational, negative glucose measuremets. \n",
    "The end user only needs timestamp of the measurement and meaurement value, necessary to detect anomalies in blood test reading.\n",
    "\n",
    "\n",
    "1. Read streaming data using `socket` format, with host being `127.0.0.1` and port `65432`\n",
    "2. Split device input signal to seperate columns\n",
    "3. Cast `eventTime` to *timestamp* type and `glucoseMeasurement` to *integer*\n",
    "4. Filter negative glucose measurements\n",
    "5. Select only `eventTime` and `glucoseMeasurement`\n",
    "6. Write data to console in `append` mode\n",
    "7. Trigger reading measurements every `1 minute` interval"
   ]
  },
  {
   "cell_type": "markdown",
   "metadata": {},
   "source": [
    "To start mesurement, go to terminal and run script in `exercises` directory\n",
    "> python sever_glucose.py\n",
    "\n",
    "This starts a server to listens to incoming connections and when connection has been made, sends device data through a socket"
   ]
  },
  {
   "cell_type": "markdown",
   "metadata": {},
   "source": [
    "# TODO"
   ]
  },
  {
   "cell_type": "code",
   "execution_count": 9,
   "metadata": {},
   "outputs": [
    {
     "name": "stderr",
     "output_type": "stream",
     "text": [
      "24/04/21 12:59:44 WARN TextSocketSourceProvider: The socket source should not be used for production applications! It does not support recovery.\n",
      "24/04/21 12:59:44 WARN ResolveWriteToStream: Temporary checkpoint location created which is deleted normally when the query didn't fail: /tmp/temporary-51bb0ce6-b095-4b0f-8456-7706303aaf12. If it's required to delete it under any circumstances, please set spark.sql.streaming.forceDeleteTempCheckpointLocation to true. Important to know deleting temp checkpoint folder is best effort.\n",
      "24/04/21 12:59:44 WARN ResolveWriteToStream: spark.sql.adaptive.enabled is not supported in streaming DataFrames/Datasets and will be disabled.\n"
     ]
    },
    {
     "name": "stdout",
     "output_type": "stream",
     "text": [
      "-------------------------------------------\n",
      "Batch: 0\n",
      "-------------------------------------------\n",
      "+---------+------------------+\n",
      "|eventTime|glucoseMeasurement|\n",
      "+---------+------------------+\n",
      "+---------+------------------+\n",
      "\n",
      "-------------------------------------------\n",
      "Batch: 1\n",
      "-------------------------------------------\n",
      "+--------------------+------------------+\n",
      "|           eventTime|glucoseMeasurement|\n",
      "+--------------------+------------------+\n",
      "|2024-04-21 12:59:...|               123|\n",
      "|2024-04-21 12:59:...|               122|\n",
      "|2024-04-21 12:59:...|               108|\n",
      "|2024-04-21 12:59:...|               119|\n",
      "+--------------------+------------------+\n",
      "\n",
      "-------------------------------------------\n",
      "Batch: 2\n",
      "-------------------------------------------\n",
      "+--------------------+------------------+\n",
      "|           eventTime|glucoseMeasurement|\n",
      "+--------------------+------------------+\n",
      "|2024-04-21 13:00:...|               106|\n",
      "|2024-04-21 13:00:...|               120|\n",
      "|2024-04-21 13:00:...|               123|\n",
      "|2024-04-21 13:00:...|               118|\n",
      "|2024-04-21 13:00:...|               109|\n",
      "|2024-04-21 13:00:...|               120|\n",
      "|2024-04-21 13:00:...|               114|\n",
      "|2024-04-21 13:00:...|               104|\n",
      "|2024-04-21 13:00:...|               100|\n",
      "|2024-04-21 13:00:...|               113|\n",
      "|2024-04-21 13:00:...|               114|\n",
      "|2024-04-21 13:00:...|               104|\n",
      "|2024-04-21 13:00:...|               107|\n",
      "|2024-04-21 13:00:...|               116|\n",
      "|2024-04-21 13:00:...|               125|\n",
      "+--------------------+------------------+\n",
      "\n"
     ]
    },
    {
     "name": "stderr",
     "output_type": "stream",
     "text": [
      "24/04/21 13:01:05 WARN TextSocketMicroBatchStream: Stream closed by 127.0.0.1:65432\n"
     ]
    }
   ],
   "source": [
    "# solution\n",
    "\n",
    "from pyspark.sql import SparkSession\n",
    "from pyspark.sql.functions import split\n",
    "\n",
    "host, port = (\"127.0.0.1\", \"65432\")\n",
    "\n",
    "spark = SparkSession \\\n",
    "    .builder \\\n",
    "    .appName(\"GlucoSpark\") \\\n",
    "    .getOrCreate()\n",
    "\n",
    "lines = spark \\\n",
    "    .readStream \\\n",
    "    .format('socket') \\\n",
    "    .option('host', host) \\\n",
    "    .option('port', port) \\\n",
    "    .load()\n",
    "\n",
    "CSVData = lines.select(\\\n",
    "        split(lines.value, ',').getItem(0).alias(\"eventTime\").cast(\"timestamp\"),\\\n",
    "        split(lines.value, ',').getItem(1).alias(\"glucoseMeasurement\").cast(\"int\"),\\\n",
    "        split(lines.value, ',').getItem(2).alias(\"displayUnit\"),\\\n",
    "        split(lines.value, ',').getItem(3).alias(\"deviceID\")\n",
    "        )\n",
    "\n",
    "selectAndFilter = CSVData.select(\"eventTime\",\"glucoseMeasurement\")\\\n",
    "        .where(\"glucoseMeasurement > 0\")\n",
    "    \n",
    "query = selectAndFilter \\\n",
    "    .writeStream \\\n",
    "    .queryName(\"BloodTest\") \\\n",
    "    .outputMode(\"append\") \\\n",
    "    .format(\"console\") \\\n",
    "    .trigger(processingTime=\"1 minute\") \\\n",
    "    .start()"
   ]
  },
  {
   "cell_type": "code",
   "execution_count": 10,
   "metadata": {},
   "outputs": [],
   "source": [
    "# Cleanup Classroom\n",
    "query.stop()\n",
    "spark.stop()"
   ]
  },
  {
   "cell_type": "code",
   "execution_count": null,
   "metadata": {},
   "outputs": [],
   "source": []
  }
 ],
 "metadata": {
  "kernelspec": {
   "display_name": ".venv",
   "language": "python",
   "name": "python3"
  },
  "language_info": {
   "codemirror_mode": {
    "name": "ipython",
    "version": 3
   },
   "file_extension": ".py",
   "mimetype": "text/x-python",
   "name": "python",
   "nbconvert_exporter": "python",
   "pygments_lexer": "ipython3",
   "version": "3.10.12"
  }
 },
 "nbformat": 4,
 "nbformat_minor": 2
}
