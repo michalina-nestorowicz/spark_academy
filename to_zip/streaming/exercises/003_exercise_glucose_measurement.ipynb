{
 "cells": [
  {
   "cell_type": "markdown",
   "metadata": {},
   "source": [
    "# Exercise\n",
    "\n",
    "You were given a task to display measurement from continuous glucose monitoring device (CGM) `GlucoSpark`. Control enginners from your company have already setup test device that sends data through socket on port `65432` directly on your machine.\n",
    "The signal send by a device is a comma separated line with `<eventTime>,<glucoseMeasurement>,<displayUnit>,<cgmId>`, that ends with newline sign.\n",
    "Unfortunetly, device sometimes catches backgroud noise signal and displays irrational, negative glucose measuremets. \n",
    "The end user only needs timestamp of the measurement and meaurement value, necessary to detect anomalies in blood test reading.\n",
    "\n",
    "\n",
    "1. Read streaming data using `socket` format, with host being `127.0.0.1` and port `65432`\n",
    "2. Split device input signal to seperate columns\n",
    "3. Cast `eventTime` to *timestamp* type and `glucoseMeasurement` to *integer*\n",
    "4. Filter negative glucose measurements\n",
    "5. Select only `eventTime` and `glucoseMeasurement`\n",
    "6. Write data to console in `append` mode\n",
    "7. Trigger reading measurements every `1 minute` interval"
   ]
  },
  {
   "cell_type": "markdown",
   "metadata": {},
   "source": [
    "To start mesurement, go to terminal and run script in `exercises` directory\n",
    "> python sever_glucose.py\n",
    "\n",
    "This starts a server to listens to incoming connections and when connection has been made, sends device data through a socket"
   ]
  },
  {
   "cell_type": "markdown",
   "metadata": {},
   "source": [
    "# TODO"
   ]
  },
  {
   "cell_type": "code",
   "execution_count": null,
   "metadata": {},
   "outputs": [],
   "source": [
    "# solution\n",
    "\n",
    "from pyspark.sql import SparkSession\n",
    "from pyspark.sql.functions import split\n",
    "\n",
    "host, port = (\"127.0.0.1\", \"65432\")\n",
    "\n",
    "spark = SparkSession \\\n",
    "    .builder \\\n",
    "    .appName(\"GlucoSpark\") \\\n",
    "    .getOrCreate()\n",
    "\n",
    "lines = ..."
   ]
  },
  {
   "cell_type": "code",
   "execution_count": null,
   "metadata": {},
   "outputs": [],
   "source": [
    "# Cleanup Classroom\n",
    "query.stop()\n",
    "spark.stop()"
   ]
  }
 ],
 "metadata": {
  "kernelspec": {
   "display_name": ".venv",
   "language": "python",
   "name": "python3"
  },
  "language_info": {
   "codemirror_mode": {
    "name": "ipython",
    "version": 3
   },
   "file_extension": ".py",
   "mimetype": "text/x-python",
   "name": "python",
   "nbconvert_exporter": "python",
   "pygments_lexer": "ipython3",
   "version": "3.10.12"
  }
 },
 "nbformat": 4,
 "nbformat_minor": 2
}
