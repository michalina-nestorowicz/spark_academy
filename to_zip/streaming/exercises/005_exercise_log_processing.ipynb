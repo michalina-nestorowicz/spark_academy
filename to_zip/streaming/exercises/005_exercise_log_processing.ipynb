{
 "cells": [
  {
   "cell_type": "markdown",
   "metadata": {},
   "source": [
    "## Exercise\n",
    "\n",
    "The company `SparkyCO` have noticed more than usual servers connectivity disruptions. You were given a task to investigate that and monitor all requests processed by the severs.\n",
    "\n",
    "You need to process sever access logs, monitor incoming traffic and detect any anomaly in 1 hour windows.\n",
    "The logs entries are qritten in format known as *Common Log Format* (CLF), standard format that can be produced by many different web servers and read by many log analysis programs.\n",
    "\n",
    "Example log entry:\n",
    "> 127.0.0.1 - - [26/Apr/2024:07:20:39 +0000] \"GET /lists HTTP/1.0\" 200 2503\n",
    "\n",
    "Provided information from that entry: \n",
    "1. IP address of the client (remote host) that made request to the server\n",
    "2. First \"hypen\" indicates that requested piece of information is not available\n",
    "3. User id of the person reqesting. If the requested document does not need authentication, this part will also be just a \"hypen\"\n",
    "4. Time that the request was received\n",
    "5. The request line from the client: <br>\n",
    "a. method usef ny client <br>\n",
    "b. requested endpoint <br>\n",
    "c. used protocol\n",
    "6. Status code\n",
    "7. Size of the object returned to the client\n",
    "\n"
   ]
  },
  {
   "cell_type": "markdown",
   "metadata": {},
   "source": [
    "### Task description\n",
    "\n",
    "1. Read incoming stream data using `text` output\n",
    "2. Parse incoming log (use provided regex expressions or any other method) \n",
    "3. Cast `timestamp` column to appropriate type\n",
    "4. Set a watermatk for `2 hours`\n",
    "5. Group by `host` with `1 hour` tumbling window based on `timestamp` and add `30 minutes` offset\n",
    "6. Count how many times specific `host` tried to reach a server and alias the resulting column as `requests`\n",
    "4. Filter \"localhost\" endpoints \n",
    "6. add boolean column \"possible_threat\", if `requests` is over 1_000\n",
    "7. Write output to a file output"
   ]
  },
  {
   "cell_type": "code",
   "execution_count": null,
   "metadata": {},
   "outputs": [],
   "source": [
    "# regex patterns to parse logs\n",
    "\n",
    "host_pattern = r'(^\\S+\\.[\\S+\\.]+\\S+)\\s'\n",
    "time_pattern = r'\\[(\\d{2}/\\w{3}/\\d{4}:\\d{2}:\\d{2}:\\d{2}:\\d{4})]'\n",
    "general_pattern = r'\\\"(\\S+)\\s(\\S+)\\s*(\\S*)\\\"'\n",
    "status_pattern = r'\\s(\\d{3})\\s'\n",
    "content_size_pattern = r'\\s(\\d+)$'"
   ]
  },
  {
   "cell_type": "markdown",
   "metadata": {},
   "source": [
    "## Setup\n"
   ]
  },
  {
   "cell_type": "code",
   "execution_count": null,
   "metadata": {},
   "outputs": [],
   "source": [
    "from pyspark.sql import SparkSession\n",
    "from pyspark.sql.functions import regexp_extract"
   ]
  },
  {
   "cell_type": "code",
   "execution_count": null,
   "metadata": {},
   "outputs": [],
   "source": [
    "spark = SparkSession.builder.appName(\"Log Analysis\").getOrCreate()"
   ]
  },
  {
   "cell_type": "markdown",
   "metadata": {},
   "source": [
    "### Generate data\n",
    "For out practice purposes, we will generate mockup Apache Access logs.\n",
    ">1. Open terminal and change directory to `data` folder\n",
    ">2. In terminal, run command `python log_generator apache_access_schema.yaml`, add flag `-t` to truncate previously created logs\n",
    ">3. Based on provide .yaml file, new `log.txt.{id}` file should appear every 5s with 50 lines of random logs in `log/apache_access` directory\n",
    "\n",
    "**Remeber to exit from log generation script and close query connection at the end**"
   ]
  },
  {
   "cell_type": "markdown",
   "metadata": {},
   "source": [
    "## Practice"
   ]
  },
  {
   "cell_type": "code",
   "execution_count": null,
   "metadata": {},
   "outputs": [],
   "source": [
    "access_lines = spark.readStream.text(\"../data/log/apache_access\")\n",
    "\n",
    "# TODO"
   ]
  },
  {
   "cell_type": "code",
   "execution_count": null,
   "metadata": {},
   "outputs": [],
   "source": [
    "# Classroom cleup\n",
    "query.stop()\n",
    "spark.stop()"
   ]
  }
 ],
 "metadata": {
  "kernelspec": {
   "display_name": ".venv",
   "language": "python",
   "name": "python3"
  },
  "language_info": {
   "codemirror_mode": {
    "name": "ipython",
    "version": 3
   },
   "file_extension": ".py",
   "mimetype": "text/x-python",
   "name": "python",
   "nbconvert_exporter": "python",
   "pygments_lexer": "ipython3",
   "version": "3.10.12"
  }
 },
 "nbformat": 4,
 "nbformat_minor": 2
}
